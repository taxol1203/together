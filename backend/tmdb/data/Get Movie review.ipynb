{
 "cells": [
  {
   "cell_type": "code",
   "execution_count": 1,
   "id": "7b7bf1b7",
   "metadata": {},
   "outputs": [],
   "source": [
    "import numpy as np \n",
    "import pandas as pd\n",
    "import json\n",
    "import time"
   ]
  },
  {
   "cell_type": "code",
   "execution_count": 3,
   "id": "9d70f7e9",
   "metadata": {},
   "outputs": [],
   "source": [
    "with open('movies.json', 'r') as f:\n",
    "    data = json.loads(f.read())\n",
    "df_nested_list = pd.json_normalize(data)\n",
    "\n",
    "# 사용하는 column만 추출\n",
    "meta = df_nested_list[[\"pk\", \"fields.original_title\", \"fields.original_language\", \"fields.genre_ids\"]]\n",
    "\n",
    "# id 컬럼 이름을 movieId로 변경\n",
    "meta = meta.rename(columns={'pk':'movieId'})\n",
    "meta = meta.rename(columns={'fields.original_title':'original_title'})\n",
    "meta = meta.rename(columns={'fields.original_language':'original_language'})\n",
    "meta = meta.rename(columns={'fields.genre_ids':'genres'})\n",
    "\n",
    "# meta = meta[meta['original_language'] == 'en'] # 영어로만 되어있는 리뷰 가져옴\n",
    "\n",
    "# 유저 rating 파일 불러옴\n",
    "with open('movie_reviews.json', 'r') as f:\n",
    "    data = json.loads(f.read())\n",
    "ratings = pd.json_normalize(data)\n",
    "\n",
    "# ratings.head()\n",
    "\n",
    "# ratings.describe() # ratings 테이블의 기본 정보들을 알려준다. 개수, 평균, 최소, 등등\n",
    "\n",
    "# ------- Refine Dataset -----------\n",
    "\n",
    "# to_numeric으로 String인 데이터를 int로 바꾼다\n",
    "meta.movieId = pd.to_numeric(meta.movieId, errors='coerce')\n",
    "ratings.movieId = pd.to_numeric(ratings.movieId, errors='coerce')\n",
    "\n",
    "# meta.head()\n",
    "\n",
    "# ------------ Merge Meta and Ratings -----------\n",
    "# 유저 데이터와 영화 데이터를 movidId를 기준으로 merge 한다.\n",
    "data = pd.merge(ratings, meta, on='movieId', how='inner')\n",
    "\n",
    "# data.head()\n",
    "\n",
    "# Pivot Table\n",
    "# Pivot table로 만들어 준다.\n",
    "# userId와 original_title를 기준으로 만들어준다.\n",
    "matrix = data.pivot_table(index='userId', columns='original_title', values='rating')\n",
    "\n",
    "# matrix.head(20)\n",
    "\n",
    "# ----------- 상관 관계 정하기 ----------\n",
    "# 피어슨 상관관계 ( Pearson Correlation )\n",
    "\n",
    "GENRE_WEIGHT = 0.001 # 같을 장르일 시, 더하는 가중치 값"
   ]
  },
  {
   "cell_type": "code",
   "execution_count": 4,
   "id": "89b997ac",
   "metadata": {},
   "outputs": [],
   "source": [
    "input_movie = 'Iron Man'"
   ]
  },
  {
   "cell_type": "code",
   "execution_count": 5,
   "id": "010096f5",
   "metadata": {},
   "outputs": [],
   "source": [
    "input_genres = meta[meta['original_title'] == input_movie]['genres'].iloc(0)[0]"
   ]
  },
  {
   "cell_type": "code",
   "execution_count": 6,
   "id": "98a9d58d",
   "metadata": {},
   "outputs": [
    {
     "data": {
      "text/plain": [
       "userId\n",
       "007ace            NaN\n",
       "15bq1a05k9        NaN\n",
       "1JohnSmith1       NaN\n",
       "1RobertJohnson1   NaN\n",
       "20thCentury       NaN\n",
       "                   ..\n",
       "zenorking         NaN\n",
       "zerolimit         NaN\n",
       "zhadow900         NaN\n",
       "zmmetz            NaN\n",
       "zombieakacris     NaN\n",
       "Name: Iron Man, Length: 806, dtype: float64"
      ]
     },
     "execution_count": 6,
     "metadata": {},
     "output_type": "execute_result"
    }
   ],
   "source": [
    "matrix[input_movie]"
   ]
  },
  {
   "cell_type": "code",
   "execution_count": null,
   "id": "ae687e1c",
   "metadata": {},
   "outputs": [],
   "source": []
  }
 ],
 "metadata": {
  "kernelspec": {
   "display_name": "Python 3",
   "language": "python",
   "name": "python3"
  },
  "language_info": {
   "codemirror_mode": {
    "name": "ipython",
    "version": 3
   },
   "file_extension": ".py",
   "mimetype": "text/x-python",
   "name": "python",
   "nbconvert_exporter": "python",
   "pygments_lexer": "ipython3",
   "version": "3.6.8"
  }
 },
 "nbformat": 4,
 "nbformat_minor": 5
}
