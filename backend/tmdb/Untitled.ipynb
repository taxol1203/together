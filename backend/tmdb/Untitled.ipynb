{
 "cells": [
  {
   "cell_type": "code",
   "execution_count": 1,
   "id": "710e43fa",
   "metadata": {},
   "outputs": [],
   "source": [
    "import numpy as np \n",
    "import pandas as pd\n",
    "import json\n",
    "import time"
   ]
  },
  {
   "cell_type": "code",
   "execution_count": 10,
   "id": "ecf75420",
   "metadata": {},
   "outputs": [],
   "source": [
    " # %matplotlib inline -> 나중에 그래프화 할 때 사용하는 듯\n",
    "import pandas as pd\n",
    "import numpy as np\n",
    "import json\n",
    "import time\n",
    "\n",
    "\n",
    "def recommend(movie_genre):\n",
    "    with open('./data/movies_kr.json', 'r') as f:\n",
    "        data = json.loads(f.read())\n",
    "\n",
    "    md = pd.json_normalize(data)\n",
    "    md = md.rename(columns={'pk': 'movieId'})\n",
    "    md = md.rename(columns={'fields.original_title': 'original_title'})\n",
    "    md = md.rename(columns={'fields.overview': 'overview'})\n",
    "    md = md.rename(columns={'fields.vote_count': 'vote_count'})\n",
    "    md = md.rename(columns={'fields.vote_average': 'vote_average'})\n",
    "    md = md.rename(columns={'fields.genre_ids': 'genres'})\n",
    "    md = md.rename(columns={'fields.release_date': 'release_date'})\n",
    "    md = md.rename(columns={'fields.popularity': 'popularity'})\n",
    "\n",
    "    # errors='coerce' : 문자열이 속해있어서 오류가 날 경우 강제로 NaT으로 출력\n",
    "    md['year'] = pd.to_datetime(md['release_date'], errors='coerce').apply(lambda x: str(x).split('-')[0] if not(pd.isnull(x)) else np.nan)\n",
    "\n",
    "    # stack : 들어온 것 부터 쌓음\n",
    "    s = md.apply(lambda x: pd.Series(x['genres']), axis=1).stack().reset_index(level=1, drop=True)\n",
    "    s.name = 'genre'\n",
    "    gen_md = md.drop('genres', axis=1).join(s)\n",
    "\n",
    "    md = gen_md[gen_md['genre'] == movie_genre]  # 여기에 장르를 기입한다\n",
    "\n",
    "    vote_counts = md[md['vote_count'].notnull()]['vote_count'].astype('int')\n",
    "    vote_averages = md[md['vote_average'].notnull()]['vote_average'].astype('int')\n",
    "    C = vote_averages.mean() # 전체 report에 대한 평균 vote 수\n",
    "    m = vote_counts.quantile(0.95) # 상위 5프로 영화\n",
    "\n",
    "    qualified = md[(md['vote_count'] >= m) & (md['vote_count'].notnull()) & (md['vote_average'].notnull())][['original_title', 'year', 'vote_count', 'vote_average', 'popularity', 'genre']]\n",
    "    qualified['vote_count'] = qualified['vote_count'].astype('int')\n",
    "    qualified['vote_average'] = qualified['vote_average'].astype('int')\n",
    "    qualified.shape   # 288개의 영화가 포함될 자격이 있다.\n",
    "\n",
    "    def weighted_rating(x) :\n",
    "        v = x['vote_count']\n",
    "        R = x['vote_average']\n",
    "        return (v/(v+m) * R) + (m/(m+v) * C)\n",
    "\n",
    "    qualified['wr'] = qualified.apply(weighted_rating, axis = 1)\n",
    "\n",
    "    # wr기준으로 상위 250개의 영화만 골라냄\n",
    "    qualified = qualified.sort_values('wr', ascending = False).head(250)\n",
    "    print(qualified.head(15))"
   ]
  },
  {
   "cell_type": "code",
   "execution_count": 13,
   "id": "96f3e037",
   "metadata": {},
   "outputs": [
    {
     "name": "stderr",
     "output_type": "stream",
     "text": [
      "c:\\users\\multicampus\\appdata\\local\\programs\\python\\python36\\lib\\site-packages\\ipykernel_launcher.py:26: DeprecationWarning: The default dtype for empty Series will be 'object' instead of 'float64' in a future version. Specify a dtype explicitly to silence this warning.\n"
     ]
    },
    {
     "name": "stdout",
     "output_type": "stream",
     "text": [
      "                original_title  year  vote_count  vote_average  popularity  \\\n",
      "566            The Dark Knight  2008       25855             8      61.162   \n",
      "491               Pulp Fiction  1994       21797             8      48.647   \n",
      "418   The Shawshank Redemption  1994       19741             8      63.348   \n",
      "50                       Joker  2019       18646             8     317.517   \n",
      "243    The Wolf of Wall Street  2013       18312             8      94.178   \n",
      "689                      Se7en  1995       15765             8      35.788   \n",
      "565              The Godfather  1972       14814             8      46.567   \n",
      "1165         Kill Bill: Vol. 1  2003       13703             8      29.481   \n",
      "713             The Green Mile  1999       12818             8      45.379   \n",
      "5278  The Silence of the Lambs  1991       12363             8       7.642   \n",
      "1478              The Departed  2006       11567             8      25.776   \n",
      "951     Léon: The Professional  1994       11270             8      38.713   \n",
      "1506            Reservoir Dogs  1992       11011             8      21.477   \n",
      "1445                GoodFellas  1990        9323             8      26.983   \n",
      "805     The Godfather: Part II  1974        8892             8      34.619   \n",
      "\n",
      "      genre        wr  \n",
      "566    80.0  7.564767  \n",
      "491    80.0  7.505503  \n",
      "418    80.0  7.468860  \n",
      "50     80.0  7.447037  \n",
      "243    80.0  7.440019  \n",
      "689    80.0  7.380015  \n",
      "565    80.0  7.354176  \n",
      "1165   80.0  7.321123  \n",
      "713    80.0  7.292270  \n",
      "5278   80.0  7.276459  \n",
      "1478   80.0  7.247032  \n",
      "951    80.0  7.235430  \n",
      "1506   80.0  7.225016  \n",
      "1445   80.0  7.149520  \n",
      "805    80.0  7.127826  \n"
     ]
    }
   ],
   "source": [
    "movie_genre = 80     # 액션 영화\n",
    "recommend(movie_genre)"
   ]
  },
  {
   "cell_type": "code",
   "execution_count": null,
   "id": "4ad4bf8d",
   "metadata": {},
   "outputs": [],
   "source": []
  }
 ],
 "metadata": {
  "kernelspec": {
   "display_name": "Python 3",
   "language": "python",
   "name": "python3"
  },
  "language_info": {
   "codemirror_mode": {
    "name": "ipython",
    "version": 3
   },
   "file_extension": ".py",
   "mimetype": "text/x-python",
   "name": "python",
   "nbconvert_exporter": "python",
   "pygments_lexer": "ipython3",
   "version": "3.6.8"
  }
 },
 "nbformat": 4,
 "nbformat_minor": 5
}
