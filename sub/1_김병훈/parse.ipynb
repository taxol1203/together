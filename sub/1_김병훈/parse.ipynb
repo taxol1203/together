{
 "cells": [
  {
   "cell_type": "code",
   "execution_count": 36,
   "id": "094d0906",
   "metadata": {},
   "outputs": [],
   "source": [
    "import json\n",
    "import pandas as pd\n",
    "import os\n",
    "import shutil\n",
    "from datetime import datetime"
   ]
  },
  {
   "cell_type": "code",
   "execution_count": 3,
   "id": "2215c4b0",
   "metadata": {},
   "outputs": [],
   "source": [
    "DATA_DIR = \"../data\"\n",
    "DATA_FILE = os.path.join(DATA_DIR, \"data.json\")\n",
    "DUMP_FILE = os.path.join(DATA_DIR, \"dump.pkl\")"
   ]
  },
  {
   "cell_type": "code",
   "execution_count": 24,
   "id": "fb55461a",
   "metadata": {},
   "outputs": [],
   "source": [
    "store_columns = (\n",
    "    \"id\",  # 음식점 고유번호\n",
    "    \"store_name\",  # 음식점 이름\n",
    "    \"branch\",  # 음식점 지점 여부\n",
    "    \"area\",  # 음식점 위치\n",
    "    \"tel\",  # 음식점 번호\n",
    "    \"address\",  # 음식점 주소\n",
    "    \"latitude\",  # 음식점 위도\n",
    "    \"longitude\",  # 음식점 경도\n",
    "    \"category\",  # 음식점 카테고리\n",
    ")\n",
    "\n",
    "review_columns = (\n",
    "    \"id\",  # 리뷰 고유번호\n",
    "    \"store\",  # 음식점 고유번호\n",
    "    \"user\",  # 유저 고유번호\n",
    "    \"score\",  # 평점\n",
    "    \"content\",  # 리뷰 내용\n",
    "    \"reg_time\",  # 리뷰 등록 시간\n",
    ")\n",
    "\n",
    "menu_columns = (\n",
    "    \"id\", # 메뉴 고유번호\n",
    "    \"store\", # 음식점 고유번호\n",
    "    \"menu_name\", # 메뉴 이름\n",
    "    \"price\", # 메뉴 가격\n",
    ")\n",
    "\n",
    "user_columns = (\n",
    "    \"id\", # 유저 고유번호\n",
    "    \"gender\", # 유저 성별\n",
    "    \"age\", # 유저 나이\n",
    ")"
   ]
  },
  {
   "cell_type": "code",
   "execution_count": 10,
   "id": "0493c967",
   "metadata": {},
   "outputs": [],
   "source": [
    "with open(DATA_FILE, encoding=\"UTF-8\") as f:\n",
    "    data = json.loads(f.read())"
   ]
  },
  {
   "cell_type": "code",
   "execution_count": 16,
   "id": "8b0d1087",
   "metadata": {},
   "outputs": [
    {
     "data": {
      "text/plain": [
       "[{'id': 101,\n",
       "  'name': '1004임자도횟집',\n",
       "  'branch': None,\n",
       "  'area': '괴안동',\n",
       "  'tel': '010-9990-8188',\n",
       "  'address': '경기도 부천시 괴안동 108-6',\n",
       "  'latitude': '37.482738',\n",
       "  'longitude': '126.811292',\n",
       "  'category_list': [],\n",
       "  'menu_list': [{'menu': '광어(소)', 'price': 22000},\n",
       "   {'menu': '광어(중)', 'price': 25000},\n",
       "   {'menu': '광어(대)', 'price': 45000},\n",
       "   {'menu': '우럭(중)', 'price': 25000},\n",
       "   {'menu': '광어 + 우럭(중)', 'price': 35000},\n",
       "   {'menu': '광어 + 우럭(대)', 'price': 45000}],\n",
       "  'bhour_list': [{'type': 1,\n",
       "    'week_type': 1,\n",
       "    'mon': 1,\n",
       "    'tue': 1,\n",
       "    'wed': 1,\n",
       "    'thu': 1,\n",
       "    'fri': 1,\n",
       "    'sat': 1,\n",
       "    'sun': 1,\n",
       "    'start_time': '12:00:00',\n",
       "    'end_time': '24:00:00',\n",
       "    'etc': ''}],\n",
       "  'review_cnt': 0,\n",
       "  'review_list': []},\n",
       " {'id': 102,\n",
       "  'name': '1004카페',\n",
       "  'branch': '',\n",
       "  'area': '서귀포',\n",
       "  'tel': '010-4849-7653',\n",
       "  'address': '제주특별자치도 서귀포시 대정읍 구억리 1004',\n",
       "  'latitude': '33.275735',\n",
       "  'longitude': '126.279001',\n",
       "  'category_list': [{'category': '더치베이비'}, {'category': '브런치'}],\n",
       "  'menu_list': [],\n",
       "  'bhour_list': [],\n",
       "  'review_cnt': 1,\n",
       "  'review_list': [{'writer_info': {'id': 321572,\n",
       "     'gender': '여',\n",
       "     'born_year': '1996'},\n",
       "    'review_info': {'id': 31,\n",
       "     'score': 4,\n",
       "     'content': '평소에 당근케이크 좋아하는데\\n정말정말 맛있었어요!\\n케이크 위에 귀여운 당근 모형인줄 알았는데 먹어보니 실제 당근이 아삭 씹히네요~!\\n음료와 함께 먹으니 몸도 건강해지는 느낌이었어요!',\n",
       "     'reg_time': '1970-01-01 00:00:00'}}]}]"
      ]
     },
     "execution_count": 16,
     "metadata": {},
     "output_type": "execute_result"
    }
   ],
   "source": []
  },
  {
   "cell_type": "code",
   "execution_count": 8,
   "id": "cfb5b4ec",
   "metadata": {},
   "outputs": [],
   "source": []
  },
  {
   "cell_type": "code",
   "execution_count": 39,
   "id": "0f462f21",
   "metadata": {},
   "outputs": [],
   "source": [
    "stores = [] # 음식점 테이블\n",
    "reviews = [] # 리뷰 테이블\n",
    "menus = [] # 메뉴 테이블\n",
    "users = [] # 유저 테이블\n",
    "users_id_list = []\n",
    "\n",
    "for d in data:\n",
    "    # 음식점 분류의 값을 추출하여, 리스트화\n",
    "    categories = [c[\"category\"] for c in d[\"category_list\"]]\n",
    "    # store_columns의 순서에 맞도록 값을 넣는다.\n",
    "    stores.append([\n",
    "        d[\"id\"],\n",
    "        d[\"name\"],\n",
    "        d[\"branch\"],\n",
    "        d[\"area\"],\n",
    "        d[\"tel\"],\n",
    "        d[\"address\"],\n",
    "        d[\"latitude\"],\n",
    "        d[\"longitude\"],\n",
    "        \"|\".join(categories),\n",
    "    ])\n",
    "    \n",
    "    # 메뉴 데이터 추출\n",
    "    for menu in d[\"menu_list\"]:\n",
    "        menus.append([\n",
    "            len(menus) + 1,\n",
    "            d[\"id\"],\n",
    "            menu[\"menu\"],\n",
    "            menu[\"price\"],\n",
    "        ])\n",
    "    \n",
    "    # 리뷰 및 유저 데이터 추출\n",
    "    for review in d[\"review_list\"]:\n",
    "        review_info = review[\"review_info\"]\n",
    "        user_info = review[\"writer_info\"]\n",
    "        \n",
    "        # 리뷰 데이터 추출\n",
    "        reviews.append([\n",
    "            review_info[\"id\"],\n",
    "            d[\"id\"],\n",
    "            user_info[\"id\"],\n",
    "            review_info[\"score\"],\n",
    "            review_info[\"content\"],\n",
    "            review_info[\"reg_time\"]\n",
    "        ])\n",
    "        \n",
    "        # 유저 데이터 추출\n",
    "        # 유저 아이디가 중복되지 않도록 하려면?\n",
    "        if user_info[\"id\"] not in users_id_list:\n",
    "            users.append([\n",
    "                user_info[\"id\"],\n",
    "                user_info[\"gender\"],\n",
    "                datetime.now().year - int(user_info[\"born_year\"]) + 1,\n",
    "            ])\n",
    "            users_id_list.append(user_info[\"id\"])"
   ]
  },
  {
   "cell_type": "code",
   "execution_count": 23,
   "id": "f516f236",
   "metadata": {},
   "outputs": [
    {
     "data": {
      "text/plain": [
       "[1,\n",
       " 'Agal',\n",
       " None,\n",
       " '홍대',\n",
       " '010-6689-5886',\n",
       " '서울특별시 마포구 동교동 170-13',\n",
       " '37.556862',\n",
       " '126.926666',\n",
       " '아구찜|포장마차']"
      ]
     },
     "execution_count": 23,
     "metadata": {},
     "output_type": "execute_result"
    }
   ],
   "source": [
    "stores[0]"
   ]
  },
  {
   "cell_type": "code",
   "execution_count": 22,
   "id": "f78ce18d",
   "metadata": {},
   "outputs": [
    {
     "data": {
      "text/plain": [
       "[1,\n",
       " 15,\n",
       " 68632,\n",
       " 5,\n",
       " '전포 윗길에 새로 생긴! 호주에서 온 쉐프가 직접 요리하는 호주식 레스토랑!',\n",
       " '1970-01-01 00:00:00']"
      ]
     },
     "execution_count": 22,
     "metadata": {},
     "output_type": "execute_result"
    }
   ],
   "source": [
    "reviews[0]"
   ]
  },
  {
   "cell_type": "code",
   "execution_count": 26,
   "id": "8d9f8eb8",
   "metadata": {},
   "outputs": [
    {
     "data": {
      "text/plain": [
       "[1, 3, '메인 (피쉬앤칩스, 오리 가슴살 등)', 14000]"
      ]
     },
     "execution_count": 26,
     "metadata": {},
     "output_type": "execute_result"
    }
   ],
   "source": [
    "menus[0]"
   ]
  },
  {
   "cell_type": "code",
   "execution_count": 40,
   "id": "2a148456",
   "metadata": {},
   "outputs": [
    {
     "data": {
      "text/plain": [
       "[[68632, '남', 32],\n",
       " [389728, '여', 29],\n",
       " [68716, '여', 38],\n",
       " [774353, '여', 50],\n",
       " [115682, '남', 31],\n",
       " [388883, '여', 54],\n",
       " [180541, '남', 53],\n",
       " [249051, '여', 29],\n",
       " [52424, '남', 33],\n",
       " [946187, '여', 29]]"
      ]
     },
     "execution_count": 40,
     "metadata": {},
     "output_type": "execute_result"
    }
   ],
   "source": [
    "users[0:10]"
   ]
  },
  {
   "cell_type": "code",
   "execution_count": 42,
   "id": "34e4313c",
   "metadata": {},
   "outputs": [],
   "source": [
    "store_frame = pd.DataFrame(data=stores, columns=store_columns)"
   ]
  },
  {
   "cell_type": "code",
   "execution_count": 43,
   "id": "e6e56855",
   "metadata": {},
   "outputs": [
    {
     "data": {
      "text/html": [
       "<div>\n",
       "<style scoped>\n",
       "    .dataframe tbody tr th:only-of-type {\n",
       "        vertical-align: middle;\n",
       "    }\n",
       "\n",
       "    .dataframe tbody tr th {\n",
       "        vertical-align: top;\n",
       "    }\n",
       "\n",
       "    .dataframe thead th {\n",
       "        text-align: right;\n",
       "    }\n",
       "</style>\n",
       "<table border=\"1\" class=\"dataframe\">\n",
       "  <thead>\n",
       "    <tr style=\"text-align: right;\">\n",
       "      <th></th>\n",
       "      <th>id</th>\n",
       "      <th>store_name</th>\n",
       "      <th>branch</th>\n",
       "      <th>area</th>\n",
       "      <th>tel</th>\n",
       "      <th>address</th>\n",
       "      <th>latitude</th>\n",
       "      <th>longitude</th>\n",
       "      <th>category</th>\n",
       "    </tr>\n",
       "  </thead>\n",
       "  <tbody>\n",
       "    <tr>\n",
       "      <th>0</th>\n",
       "      <td>1</td>\n",
       "      <td>Agal</td>\n",
       "      <td>None</td>\n",
       "      <td>홍대</td>\n",
       "      <td>010-6689-5886</td>\n",
       "      <td>서울특별시 마포구 동교동 170-13</td>\n",
       "      <td>37.556862</td>\n",
       "      <td>126.926666</td>\n",
       "      <td>아구찜|포장마차</td>\n",
       "    </tr>\n",
       "    <tr>\n",
       "      <th>1</th>\n",
       "      <td>2</td>\n",
       "      <td>Assisy</td>\n",
       "      <td>None</td>\n",
       "      <td>광주</td>\n",
       "      <td>062-367-0700</td>\n",
       "      <td>광주광역시 서구 농성동 631-33</td>\n",
       "      <td>35.150746</td>\n",
       "      <td>126.890062</td>\n",
       "      <td>카페</td>\n",
       "    </tr>\n",
       "    <tr>\n",
       "      <th>2</th>\n",
       "      <td>3</td>\n",
       "      <td>Battered Sole</td>\n",
       "      <td>None</td>\n",
       "      <td>이태원</td>\n",
       "      <td>02-749-6867</td>\n",
       "      <td>서울특별시 용산구 이태원동 118-9</td>\n",
       "      <td>37.535032</td>\n",
       "      <td>126.991664</td>\n",
       "      <td>피쉬앤칩스|펍</td>\n",
       "    </tr>\n",
       "    <tr>\n",
       "      <th>3</th>\n",
       "      <td>4</td>\n",
       "      <td>Chakyoung</td>\n",
       "      <td>None</td>\n",
       "      <td>달맞이길</td>\n",
       "      <td>051-756-5566</td>\n",
       "      <td>부산광역시 해운대구 중2동 1509-5</td>\n",
       "      <td>35.158587</td>\n",
       "      <td>129.175004</td>\n",
       "      <td>레스토랑|카프레제</td>\n",
       "    </tr>\n",
       "    <tr>\n",
       "      <th>4</th>\n",
       "      <td>5</td>\n",
       "      <td>Delabobo</td>\n",
       "      <td>None</td>\n",
       "      <td>발산역</td>\n",
       "      <td>02-2667-9854</td>\n",
       "      <td>서울특별시 강서구 등촌동 689</td>\n",
       "      <td>37.559904</td>\n",
       "      <td>126.840512</td>\n",
       "      <td>디저트카페|디저트</td>\n",
       "    </tr>\n",
       "  </tbody>\n",
       "</table>\n",
       "</div>"
      ],
      "text/plain": [
       "   id     store_name branch  area            tel                address  \\\n",
       "0   1           Agal   None    홍대  010-6689-5886   서울특별시 마포구 동교동 170-13   \n",
       "1   2         Assisy   None    광주   062-367-0700    광주광역시 서구 농성동 631-33   \n",
       "2   3  Battered Sole   None   이태원    02-749-6867   서울특별시 용산구 이태원동 118-9   \n",
       "3   4      Chakyoung   None  달맞이길   051-756-5566  부산광역시 해운대구 중2동 1509-5   \n",
       "4   5       Delabobo   None   발산역   02-2667-9854      서울특별시 강서구 등촌동 689   \n",
       "\n",
       "    latitude   longitude   category  \n",
       "0  37.556862  126.926666   아구찜|포장마차  \n",
       "1  35.150746  126.890062         카페  \n",
       "2  37.535032  126.991664    피쉬앤칩스|펍  \n",
       "3  35.158587  129.175004  레스토랑|카프레제  \n",
       "4  37.559904  126.840512  디저트카페|디저트  "
      ]
     },
     "execution_count": 43,
     "metadata": {},
     "output_type": "execute_result"
    }
   ],
   "source": [
    "store_frame.head()"
   ]
  },
  {
   "cell_type": "code",
   "execution_count": 45,
   "id": "f5435c27",
   "metadata": {},
   "outputs": [
    {
     "data": {
      "text/html": [
       "<div>\n",
       "<style scoped>\n",
       "    .dataframe tbody tr th:only-of-type {\n",
       "        vertical-align: middle;\n",
       "    }\n",
       "\n",
       "    .dataframe tbody tr th {\n",
       "        vertical-align: top;\n",
       "    }\n",
       "\n",
       "    .dataframe thead th {\n",
       "        text-align: right;\n",
       "    }\n",
       "</style>\n",
       "<table border=\"1\" class=\"dataframe\">\n",
       "  <thead>\n",
       "    <tr style=\"text-align: right;\">\n",
       "      <th></th>\n",
       "      <th>id</th>\n",
       "      <th>store</th>\n",
       "      <th>user</th>\n",
       "      <th>score</th>\n",
       "      <th>content</th>\n",
       "      <th>reg_time</th>\n",
       "    </tr>\n",
       "  </thead>\n",
       "  <tbody>\n",
       "    <tr>\n",
       "      <th>0</th>\n",
       "      <td>1</td>\n",
       "      <td>15</td>\n",
       "      <td>68632</td>\n",
       "      <td>5</td>\n",
       "      <td>전포 윗길에 새로 생긴! 호주에서 온 쉐프가 직접 요리하는 호주식 레스토랑!</td>\n",
       "      <td>1970-01-01 00:00:00</td>\n",
       "    </tr>\n",
       "    <tr>\n",
       "      <th>1</th>\n",
       "      <td>2</td>\n",
       "      <td>18</td>\n",
       "      <td>389728</td>\n",
       "      <td>5</td>\n",
       "      <td>샌드위치 내용물도 알차게 들어있고 맛있었어요 가성비 추천</td>\n",
       "      <td>1970-01-01 00:00:00</td>\n",
       "    </tr>\n",
       "    <tr>\n",
       "      <th>2</th>\n",
       "      <td>3</td>\n",
       "      <td>19</td>\n",
       "      <td>68716</td>\n",
       "      <td>4</td>\n",
       "      <td>홈플러스 1층 매장 푸드코트 내 있는 매장인데 계란찜정식은 처음보고 시켜봣는데 사진...</td>\n",
       "      <td>1970-01-01 00:00:00</td>\n",
       "    </tr>\n",
       "    <tr>\n",
       "      <th>3</th>\n",
       "      <td>4</td>\n",
       "      <td>37</td>\n",
       "      <td>774353</td>\n",
       "      <td>2</td>\n",
       "      <td>전 여기 5년전에 가봤었는데 그때 기억은 별로였어요\\n단체손님이 많았고, 차려지는건...</td>\n",
       "      <td>1970-01-01 00:00:00</td>\n",
       "    </tr>\n",
       "    <tr>\n",
       "      <th>4</th>\n",
       "      <td>5</td>\n",
       "      <td>38</td>\n",
       "      <td>115682</td>\n",
       "      <td>3</td>\n",
       "      <td>친구들끼리 술 간단하게마시러 감. 스끼다시 괜찮지만 회 양이 조금 부족한 느낌. 맛...</td>\n",
       "      <td>2019-03-15 22:16:47</td>\n",
       "    </tr>\n",
       "  </tbody>\n",
       "</table>\n",
       "</div>"
      ],
      "text/plain": [
       "   id  store    user  score  \\\n",
       "0   1     15   68632      5   \n",
       "1   2     18  389728      5   \n",
       "2   3     19   68716      4   \n",
       "3   4     37  774353      2   \n",
       "4   5     38  115682      3   \n",
       "\n",
       "                                             content             reg_time  \n",
       "0         전포 윗길에 새로 생긴! 호주에서 온 쉐프가 직접 요리하는 호주식 레스토랑!  1970-01-01 00:00:00  \n",
       "1                    샌드위치 내용물도 알차게 들어있고 맛있었어요 가성비 추천  1970-01-01 00:00:00  \n",
       "2  홈플러스 1층 매장 푸드코트 내 있는 매장인데 계란찜정식은 처음보고 시켜봣는데 사진...  1970-01-01 00:00:00  \n",
       "3  전 여기 5년전에 가봤었는데 그때 기억은 별로였어요\\n단체손님이 많았고, 차려지는건...  1970-01-01 00:00:00  \n",
       "4  친구들끼리 술 간단하게마시러 감. 스끼다시 괜찮지만 회 양이 조금 부족한 느낌. 맛...  2019-03-15 22:16:47  "
      ]
     },
     "execution_count": 45,
     "metadata": {},
     "output_type": "execute_result"
    }
   ],
   "source": [
    "review_frame = pd.DataFrame(data=reviews, columns=review_columns)\n",
    "review_frame.head()"
   ]
  },
  {
   "cell_type": "code",
   "execution_count": 46,
   "id": "716988f2",
   "metadata": {},
   "outputs": [
    {
     "data": {
      "text/html": [
       "<div>\n",
       "<style scoped>\n",
       "    .dataframe tbody tr th:only-of-type {\n",
       "        vertical-align: middle;\n",
       "    }\n",
       "\n",
       "    .dataframe tbody tr th {\n",
       "        vertical-align: top;\n",
       "    }\n",
       "\n",
       "    .dataframe thead th {\n",
       "        text-align: right;\n",
       "    }\n",
       "</style>\n",
       "<table border=\"1\" class=\"dataframe\">\n",
       "  <thead>\n",
       "    <tr style=\"text-align: right;\">\n",
       "      <th></th>\n",
       "      <th>id</th>\n",
       "      <th>store</th>\n",
       "      <th>menu_name</th>\n",
       "      <th>price</th>\n",
       "    </tr>\n",
       "  </thead>\n",
       "  <tbody>\n",
       "    <tr>\n",
       "      <th>0</th>\n",
       "      <td>1</td>\n",
       "      <td>3</td>\n",
       "      <td>메인 (피쉬앤칩스, 오리 가슴살 등)</td>\n",
       "      <td>14000.0</td>\n",
       "    </tr>\n",
       "    <tr>\n",
       "      <th>1</th>\n",
       "      <td>2</td>\n",
       "      <td>3</td>\n",
       "      <td>스타터 보드(파테 등)</td>\n",
       "      <td>18000.0</td>\n",
       "    </tr>\n",
       "    <tr>\n",
       "      <th>2</th>\n",
       "      <td>3</td>\n",
       "      <td>3</td>\n",
       "      <td>디저트 (초콜렛 퐁당 등)</td>\n",
       "      <td>8500.0</td>\n",
       "    </tr>\n",
       "    <tr>\n",
       "      <th>3</th>\n",
       "      <td>4</td>\n",
       "      <td>3</td>\n",
       "      <td>생과일 칵테일</td>\n",
       "      <td>9000.0</td>\n",
       "    </tr>\n",
       "    <tr>\n",
       "      <th>4</th>\n",
       "      <td>5</td>\n",
       "      <td>3</td>\n",
       "      <td>생맥주</td>\n",
       "      <td>7000.0</td>\n",
       "    </tr>\n",
       "  </tbody>\n",
       "</table>\n",
       "</div>"
      ],
      "text/plain": [
       "   id  store             menu_name    price\n",
       "0   1      3  메인 (피쉬앤칩스, 오리 가슴살 등)  14000.0\n",
       "1   2      3          스타터 보드(파테 등)  18000.0\n",
       "2   3      3        디저트 (초콜렛 퐁당 등)   8500.0\n",
       "3   4      3               생과일 칵테일   9000.0\n",
       "4   5      3                   생맥주   7000.0"
      ]
     },
     "execution_count": 46,
     "metadata": {},
     "output_type": "execute_result"
    }
   ],
   "source": [
    "menu_frame = pd.DataFrame(data=menus, columns=menu_columns)\n",
    "menu_frame.head()"
   ]
  },
  {
   "cell_type": "code",
   "execution_count": 47,
   "id": "00d33d23",
   "metadata": {},
   "outputs": [
    {
     "data": {
      "text/html": [
       "<div>\n",
       "<style scoped>\n",
       "    .dataframe tbody tr th:only-of-type {\n",
       "        vertical-align: middle;\n",
       "    }\n",
       "\n",
       "    .dataframe tbody tr th {\n",
       "        vertical-align: top;\n",
       "    }\n",
       "\n",
       "    .dataframe thead th {\n",
       "        text-align: right;\n",
       "    }\n",
       "</style>\n",
       "<table border=\"1\" class=\"dataframe\">\n",
       "  <thead>\n",
       "    <tr style=\"text-align: right;\">\n",
       "      <th></th>\n",
       "      <th>id</th>\n",
       "      <th>gender</th>\n",
       "      <th>age</th>\n",
       "    </tr>\n",
       "  </thead>\n",
       "  <tbody>\n",
       "    <tr>\n",
       "      <th>0</th>\n",
       "      <td>68632</td>\n",
       "      <td>남</td>\n",
       "      <td>32</td>\n",
       "    </tr>\n",
       "    <tr>\n",
       "      <th>1</th>\n",
       "      <td>389728</td>\n",
       "      <td>여</td>\n",
       "      <td>29</td>\n",
       "    </tr>\n",
       "    <tr>\n",
       "      <th>2</th>\n",
       "      <td>68716</td>\n",
       "      <td>여</td>\n",
       "      <td>38</td>\n",
       "    </tr>\n",
       "    <tr>\n",
       "      <th>3</th>\n",
       "      <td>774353</td>\n",
       "      <td>여</td>\n",
       "      <td>50</td>\n",
       "    </tr>\n",
       "    <tr>\n",
       "      <th>4</th>\n",
       "      <td>115682</td>\n",
       "      <td>남</td>\n",
       "      <td>31</td>\n",
       "    </tr>\n",
       "  </tbody>\n",
       "</table>\n",
       "</div>"
      ],
      "text/plain": [
       "       id gender  age\n",
       "0   68632      남   32\n",
       "1  389728      여   29\n",
       "2   68716      여   38\n",
       "3  774353      여   50\n",
       "4  115682      남   31"
      ]
     },
     "execution_count": 47,
     "metadata": {},
     "output_type": "execute_result"
    }
   ],
   "source": [
    "user_frame = pd.DataFrame(data=users, columns=user_columns)\n",
    "user_frame.head()"
   ]
  },
  {
   "cell_type": "code",
   "execution_count": 49,
   "id": "fcf7a493",
   "metadata": {},
   "outputs": [],
   "source": [
    "data = pd.read_pickle(DUMP_FILE)"
   ]
  },
  {
   "cell_type": "code",
   "execution_count": 53,
   "id": "8e80f4a3",
   "metadata": {},
   "outputs": [
    {
     "data": {
      "text/plain": [
       "119"
      ]
     },
     "execution_count": 53,
     "metadata": {},
     "output_type": "execute_result"
    }
   ],
   "source": [
    "shutil.get_terminal_size()[0] - 1"
   ]
  },
  {
   "cell_type": "code",
   "execution_count": null,
   "id": "3044bbc8",
   "metadata": {},
   "outputs": [],
   "source": []
  },
  {
   "cell_type": "code",
   "execution_count": null,
   "id": "54e9e13d",
   "metadata": {},
   "outputs": [],
   "source": []
  },
  {
   "cell_type": "code",
   "execution_count": null,
   "id": "9793fad0",
   "metadata": {},
   "outputs": [],
   "source": []
  },
  {
   "cell_type": "code",
   "execution_count": null,
   "id": "53eb3983",
   "metadata": {},
   "outputs": [],
   "source": []
  },
  {
   "cell_type": "code",
   "execution_count": null,
   "id": "79434def",
   "metadata": {},
   "outputs": [],
   "source": []
  },
  {
   "cell_type": "code",
   "execution_count": null,
   "id": "54f7281a",
   "metadata": {},
   "outputs": [],
   "source": []
  },
  {
   "cell_type": "code",
   "execution_count": null,
   "id": "8f78bc77",
   "metadata": {},
   "outputs": [],
   "source": []
  }
 ],
 "metadata": {
  "kernelspec": {
   "display_name": "Python 3 (ipykernel)",
   "language": "python",
   "name": "python3"
  },
  "language_info": {
   "codemirror_mode": {
    "name": "ipython",
    "version": 3
   },
   "file_extension": ".py",
   "mimetype": "text/x-python",
   "name": "python",
   "nbconvert_exporter": "python",
   "pygments_lexer": "ipython3",
   "version": "3.9.6"
  },
  "toc": {
   "base_numbering": 1,
   "nav_menu": {},
   "number_sections": true,
   "sideBar": true,
   "skip_h1_title": false,
   "title_cell": "Table of Contents",
   "title_sidebar": "Contents",
   "toc_cell": false,
   "toc_position": {},
   "toc_section_display": true,
   "toc_window_display": false
  }
 },
 "nbformat": 4,
 "nbformat_minor": 5
}
