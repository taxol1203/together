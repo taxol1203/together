{
 "cells": [
  {
   "cell_type": "code",
   "execution_count": 44,
   "id": "4ca87ec2",
   "metadata": {},
   "outputs": [],
   "source": [
    "import pandas as pd\n",
    "import numpy as np\n",
    "import itertools\n",
    "from collections import Counter\n",
    "from os import name\n",
    "from parse import load_dataframes\n",
    "from scipy import sparse\n",
    "import scipy\n",
    "\n"
   ]
  },
  {
   "cell_type": "code",
   "execution_count": 45,
   "id": "991ae5ce",
   "metadata": {},
   "outputs": [],
   "source": [
    "def get_user_store(dataframes):\n",
    "    stores_reviews = pd.merge(\n",
    "        dataframes[\"stores\"], dataframes[\"reviews\"], left_on=\"id\", right_on=\"store\"\n",
    "    )\n",
    "    \n",
    "    user_list = list(set(stores_reviews[\"user\"].values.tolist()))\n",
    "    user_list.sort()\n",
    "    store_list = list(set(stores_reviews[\"store_name\"].values.tolist()))\n",
    "    df = pd.DataFrame(data=np.nan, index=user_list, columns=store_list)\n",
    "    \n",
    "    \n",
    "    user_group = stores_reviews.sort_values(by='user').groupby([\"user\", \"store_name\"]).mean().loc[:, \"score\"]\n",
    "\n",
    "    for i, score in user_group.items():\n",
    "        user, store_name = i\n",
    "        df.loc[user,  store_name] = score\n",
    "    sdf = df.astype(pd.SparseDtype(\"int\", np.nan))\n",
    "    \n",
    "    print(df.info())\n",
    "    print(\"---------------------\")\n",
    "    print(sdf.info())"
   ]
  },
  {
   "cell_type": "code",
   "execution_count": 50,
   "id": "ea153a55",
   "metadata": {},
   "outputs": [],
   "source": [
    "def get_user_category(dataframes):\n",
    "    # stores_reviews = pd.merge(\n",
    "    #     dataframes[\"stores\"], dataframes[\"reviews\"], left_on=\"id\", right_on=\"store\"\n",
    "    # )\n",
    "\n",
    "    # user_list = list(set(stores_reviews[\"user\"].values.tolist()))\n",
    "    # user_list.sort()\n",
    "    # category_list = stores_reviews[\"category\"].str.split(\"|\")\n",
    "    # category_list = category_list.explode(\"category\")\n",
    "    # df = pd.DataFrame(data=np.nan, index=user_list, columns=category_list)\n",
    "    # user_group = \n",
    "\n",
    "\n",
    "    # 카테고리 | 로 구분되어 있는거를 리스트로 넣어줘야한다\n",
    "    stores = dataframes[\"stores\"][[\"id\",\"category\", \"review_cnt\"]]\n",
    "    # category 가 없거나 review가 없는 음식점 제거.\n",
    "    stores = stores[(stores[\"category\"] != \"\") & (stores[\"review_cnt\"] > 0)]\n",
    "    # 구분자(\"|\") 로 구분되어 있는 category를 리스트 형태로 변환한다.\n",
    "    stores[\"category\"] = stores[\"category\"].str.split(\"|\")\n",
    "    # category를 기준으로 row를 분리함\n",
    "    stores = stores.explode(\"category\")\n",
    "\n",
    "    reviews = dataframes[\"reviews\"][[\"store\", \"user\", \"score\"]]\n",
    "    stores_reviews = pd.merge(stores, reviews, left_on=\"id\", right_on=\"store\")\n",
    "    grouped_stores_reviews = stores_reviews.groupby([\"user\", \"category\"])[\"score\"].mean().reset_index(name=\"score\")\n",
    "\n",
    "    uc_pivot_table = grouped_stores_reviews.pivot_table(index=\"user\", columns=\"category\", values=\"score\")\n",
    "#     print(uc_pivot_table.info())\n",
    "#     print(\"---------------------------------------\")\n",
    "    uc_pivot_sparsetype = uc_pivot_table.astype(pd.SparseDtype(\"float\", np.nan))\n",
    "    \n",
    "    csr_matrix = scipy.sparse.csr_matrix(uc_pivot_sparsetype)\n",
    "#     print(uc_pivot_sparsetype.info())\n",
    "    return csr_matrix\n",
    "    "
   ]
  },
  {
   "cell_type": "code",
   "execution_count": 51,
   "id": "f01d8da1",
   "metadata": {},
   "outputs": [],
   "source": [
    "def main():\n",
    "#     set_config()\n",
    "    data = load_dataframes()\n",
    "    # show_store_categories_graph(data)\n",
    "    # show_store_review_distribution_graph(data)\n",
    "    # show_store_average_ratings_graph(data)\n",
    "    # show_user_review_distribution_graph(data)\n",
    "    # show_user_age_gender_distribution_graph(data)\n",
    "    # show_stores_distribution_graph(data)\n",
    "#     get_user_store(data)\n",
    "    get_user_category(data)\n",
    "\n",
    "if __name__ == \"__main__\":\n",
    "    main()\n"
   ]
  },
  {
   "cell_type": "code",
   "execution_count": null,
   "id": "ccec34c1",
   "metadata": {},
   "outputs": [],
   "source": []
  }
 ],
 "metadata": {
  "kernelspec": {
   "display_name": "Python 3",
   "language": "python",
   "name": "python3"
  }
 },
 "nbformat": 4,
 "nbformat_minor": 5
}
